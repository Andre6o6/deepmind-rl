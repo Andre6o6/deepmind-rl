{
 "cells": [
  {
   "cell_type": "markdown",
   "metadata": {},
   "source": [
    "# Train agent"
   ]
  },
  {
   "cell_type": "code",
   "execution_count": 1,
   "metadata": {},
   "outputs": [],
   "source": [
    "import matplotlib.pyplot as plt\n",
    "import numpy as np\n",
    "import tqdm\n",
    "from dm_control import suite"
   ]
  },
  {
   "cell_type": "markdown",
   "metadata": {},
   "source": [
    "## Create environment"
   ]
  },
  {
   "cell_type": "code",
   "execution_count": 2,
   "metadata": {},
   "outputs": [],
   "source": [
    "env = suite.load(domain_name=\"swimmer\", task_name=\"swimmer6\")\n",
    "action_spec = env.action_spec()\n",
    "t = env.reset()\n",
    "state_size = sum(len(x) for x in t.observation.values())"
   ]
  },
  {
   "cell_type": "code",
   "execution_count": 3,
   "metadata": {},
   "outputs": [
    {
     "name": "stdout",
     "output_type": "stream",
     "text": [
      "25 5\n"
     ]
    }
   ],
   "source": [
    "print(state_size, action_spec.shape[0])"
   ]
  },
  {
   "cell_type": "code",
   "execution_count": 4,
   "metadata": {},
   "outputs": [],
   "source": [
    "import torch\n",
    "import torch.nn as nn\n",
    "from torch.distributions import MultivariateNormal\n",
    "\n",
    "device = torch.device(\"cuda:0\" if torch.cuda.is_available() else \"cpu\")"
   ]
  },
  {
   "cell_type": "code",
   "execution_count": 5,
   "metadata": {},
   "outputs": [],
   "source": [
    "class Memory:\n",
    "    def __init__(self):\n",
    "        self.actions = []\n",
    "        self.states = []\n",
    "        self.logprobs = []\n",
    "        self.rewards = []\n",
    "        self.is_terminals = []\n",
    "    \n",
    "    def clear_memory(self):\n",
    "        del self.actions[:]\n",
    "        del self.states[:]\n",
    "        del self.logprobs[:]\n",
    "        del self.rewards[:]\n",
    "        del self.is_terminals[:]"
   ]
  },
  {
   "cell_type": "markdown",
   "metadata": {},
   "source": [
    "## Actor-Critic network"
   ]
  },
  {
   "cell_type": "code",
   "execution_count": 6,
   "metadata": {},
   "outputs": [],
   "source": [
    "def init_weights(m):\n",
    "    if isinstance(m, nn.Linear):\n",
    "        nn.init.normal_(m.weight, mean=0., std=0.1)\n",
    "        nn.init.constant_(m.bias, 0.1)\n",
    "\n",
    "\n",
    "class ActorCritic(nn.Module):\n",
    "    def __init__(self, state_dim, action_dim, action_std, hidden1=64, hidden2=32):\n",
    "        super(ActorCritic, self).__init__()\n",
    "        self.actor =  nn.Sequential(\n",
    "                nn.Linear(state_dim, hidden1),\n",
    "                nn.Tanh(),\n",
    "                nn.Linear(hidden1, hidden2),\n",
    "                nn.Tanh(),\n",
    "                nn.Linear(hidden2, action_dim),\n",
    "                )\n",
    "\n",
    "        self.critic = nn.Sequential(\n",
    "                nn.Linear(state_dim, hidden1),\n",
    "                nn.Tanh(),\n",
    "                nn.Linear(hidden1, hidden2),\n",
    "                nn.Tanh(),\n",
    "                nn.Linear(hidden2, 1)\n",
    "                )\n",
    "        self.action_var = torch.full((action_dim,), action_std*action_std).to(device)\n",
    "        self.apply(init_weights)\n",
    "        \n",
    "    def forward(self, x):\n",
    "        pass\n",
    "    \n",
    "    def act(self, state, memory):\n",
    "        action_mean = self.actor(state)\n",
    "        cov_mat = torch.diag(self.action_var).to(device)\n",
    "        \n",
    "        dist = MultivariateNormal(action_mean, cov_mat)\n",
    "        action = dist.sample()\n",
    "        action_logprob = dist.log_prob(action)\n",
    "\n",
    "        if memory:\n",
    "            memory.states.append(state)\n",
    "            memory.actions.append(action)\n",
    "            memory.logprobs.append(action_logprob)\n",
    "\n",
    "        return action.detach()\n",
    "    \n",
    "    def evaluate(self, state, action):   \n",
    "        action_mean = self.actor(state)\n",
    "        \n",
    "        action_var = self.action_var.expand_as(action_mean)\n",
    "        cov_mat = torch.diag_embed(action_var).to(device)\n",
    "        \n",
    "        dist = MultivariateNormal(action_mean, cov_mat)\n",
    "        \n",
    "        action_logprobs = dist.log_prob(action)\n",
    "        dist_entropy = dist.entropy()\n",
    "        state_value = self.critic(state)\n",
    "        \n",
    "        return action_logprobs, torch.squeeze(state_value), dist_entropy"
   ]
  },
  {
   "cell_type": "markdown",
   "metadata": {},
   "source": [
    "## Proximal Policy Optimization algorithm"
   ]
  },
  {
   "cell_type": "code",
   "execution_count": 7,
   "metadata": {},
   "outputs": [],
   "source": [
    "class PPO:\n",
    "    def __init__(self, state_dim, action_dim, action_std=0.5, gamma=0.99, K_epochs=80, eps_clip=0.2):\n",
    "        self.gamma = gamma\n",
    "        self.eps_clip = eps_clip\n",
    "        self.K_epochs = K_epochs\n",
    "        \n",
    "        self.policy = ActorCritic(state_dim, action_dim, action_std).to(device)\n",
    "        self.optimizer = torch.optim.Adam(self.policy.parameters(), lr=3e-4)\n",
    "        \n",
    "        self.value_coef = 0.5\n",
    "        self.entropy_coef = 0.001\n",
    "    \n",
    "    def select_action(self, state, memory):\n",
    "        state = torch.FloatTensor(state.reshape(1, -1)).to(device)\n",
    "        with torch.no_grad():    \n",
    "            action = self.policy.act(state, memory)\n",
    "        action = action.cpu().numpy().flatten()\n",
    "        action = np.clip(action, -1.0, 1.0)\n",
    "        return action\n",
    "    \n",
    "    def update(self, memory):\n",
    "        # Monte Carlo estimate of rewards:\n",
    "        rewards = []\n",
    "        discounted_reward = 0\n",
    "        for reward, is_terminal in zip(reversed(memory.rewards), reversed(memory.is_terminals)):\n",
    "            if is_terminal:\n",
    "                discounted_reward = 0\n",
    "            discounted_reward = reward + (self.gamma * discounted_reward)\n",
    "            rewards.insert(0, discounted_reward)\n",
    "        \n",
    "        # Form a batch\n",
    "        rewards = torch.tensor(rewards).to(device)\n",
    "        old_states = torch.squeeze(torch.stack(memory.states).to(device), 1).detach()\n",
    "        old_actions = torch.squeeze(torch.stack(memory.actions).to(device), 1).detach()\n",
    "        old_logprobs = torch.squeeze(torch.stack(memory.logprobs), 1).to(device).detach()\n",
    "        \n",
    "        # Optimize policy for K epochs:\n",
    "        for _ in range(self.K_epochs):\n",
    "            # Evaluate old actions and values :\n",
    "            logprobs, state_values, dist_entropy = self.policy.evaluate(old_states, old_actions)\n",
    "            \n",
    "            # Find the ratio (pi_theta / pi_theta__old):\n",
    "            ratios = torch.exp(logprobs - old_logprobs.detach())\n",
    "\n",
    "            # Normalize the advantages\n",
    "            advantages = rewards - state_values.detach()\n",
    "            advantages = (advantages - advantages.mean()) / (advantages.std() + 1e-5)\n",
    "\n",
    "            # Surrogate loss\n",
    "            surr1 = ratios * advantages\n",
    "            surr2 = torch.clamp(ratios, 1-self.eps_clip, 1+self.eps_clip) * advantages\n",
    "            surr_loss = - torch.min(surr1, surr2)    # minus for maximizing surrogate loss\n",
    "            \n",
    "            value_loss = self.value_coef*(state_values - rewards).pow(2).mean()\n",
    "            entropy_loss = self.entropy_coef*dist_entropy\n",
    "            \n",
    "            # Total loss \n",
    "            loss = surr_loss + value_loss - entropy_loss\n",
    "            \n",
    "            # Take gradient step\n",
    "            self.optimizer.zero_grad()\n",
    "            loss.mean().backward()\n",
    "            self.optimizer.step()"
   ]
  },
  {
   "cell_type": "markdown",
   "metadata": {},
   "source": [
    "## Wrapper for environment observations\n",
    "Originally I wanted to use running mean and std to normalize observations, but it proven to be quite annoying during testing so I gave up on it."
   ]
  },
  {
   "cell_type": "code",
   "execution_count": 8,
   "metadata": {},
   "outputs": [],
   "source": [
    "class VecNormalizer(object):\n",
    "    def __init__(self, obs_shape):\n",
    "        self.ob_mean = np.zeros(obs_shape)\n",
    "        self.m2 = np.zeros(obs_shape)\n",
    "        self.epsilon = 1e-8\n",
    "        self.n = 0\n",
    "        \n",
    "    @property\n",
    "    def ob_var(self):\n",
    "        if self.n <= 1:\n",
    "            return 0\n",
    "        else:\n",
    "            return self.m2/self.n\n",
    "        \n",
    "    def update(self, obs):\n",
    "        self.n += 1\n",
    "        \n",
    "        if self.n == 1:\n",
    "            self.ob_mean = obs\n",
    "            self.m2 = 0\n",
    "        else:\n",
    "            new_mean =  self.ob_mean + (obs - self.ob_mean)/self.n\n",
    "            self.m2 += (obs - self.ob_mean)*(obs - new_mean);\n",
    "            self.ob_mean = new_mean\n",
    "        \n",
    "    def __call__(self, time_step, skip_normalization=True):\n",
    "        obs = np.concatenate([x for x in time_step.observation.values()])\n",
    "        \n",
    "        if not skip_normalization:\n",
    "            self.update(obs)\n",
    "            obs = (obs - self.ob_mean) / np.sqrt(self.ob_var + self.epsilon)\n",
    "            obs = np.clip(obs, -10., 10.)\n",
    "        \n",
    "        reward = time_step.reward\n",
    "        done = time_step.last()\n",
    "        return obs, reward, done"
   ]
  },
  {
   "cell_type": "markdown",
   "metadata": {},
   "source": [
    "## Training"
   ]
  },
  {
   "cell_type": "code",
   "execution_count": 9,
   "metadata": {},
   "outputs": [],
   "source": [
    "ppo = PPO(state_size, action_spec.shape[0])\n",
    "memory = Memory()\n",
    "normalizer = VecNormalizer(state_size)"
   ]
  },
  {
   "cell_type": "code",
   "execution_count": 10,
   "metadata": {},
   "outputs": [],
   "source": [
    "#ppo.policy.load_state_dict(torch.load(\"weights/PPO_swimmer_delta.pth\"))"
   ]
  },
  {
   "cell_type": "code",
   "execution_count": 11,
   "metadata": {},
   "outputs": [],
   "source": [
    "time_step = 0\n",
    "update_timestep = 4096\n",
    "max_t = 1000\n",
    "\n",
    "max_episodes = 14000\n",
    "log_interval = 20"
   ]
  },
  {
   "cell_type": "code",
   "execution_count": 23,
   "metadata": {},
   "outputs": [
    {
     "name": "stdout",
     "output_type": "stream",
     "text": [
      "\n",
      "Episode 13860 \t Dist: 0.4896 \t Env score: 290.13 \t Len: 827\n",
      "Episode 13880 \t Dist: 0.5461 \t Env score: 309.21 \t Len: 754\n",
      "Episode 13900 \t Dist: 0.5616 \t Env score: 223.18 \t Len: 850\n",
      "Episode 13920 \t Dist: 0.6941 \t Env score: 270.41 \t Len: 818\n",
      "Episode 13940 \t Dist: 0.6261 \t Env score: 410.26 \t Len: 723\n",
      "Episode 13960 \t Dist: 0.6618 \t Env score: 457.07 \t Len: 664\n",
      "Episode 13980 \t Dist: 0.6152 \t Env score: 456.42 \t Len: 704\n",
      "Episode 14000 \t Dist: 0.5980 \t Env score: 345.34 \t Len: 813\n",
      "\n"
     ]
    }
   ],
   "source": [
    "scores = []\n",
    "avg_dist = 0\n",
    "avg_length = 0\n",
    "for i_episode in range(1, max_episodes+1):\n",
    "    env_step = env.reset()\n",
    "    state, _, _ = normalizer(env_step)\n",
    "    \n",
    "    score = 0\n",
    "    last_reward = None\n",
    "    dist0 = np.linalg.norm(env_step.observation[\"to_target\"])\n",
    "    \n",
    "    for t in range(max_t):\n",
    "        time_step += 1\n",
    "        \n",
    "        # Select action and make a step\n",
    "        action = ppo.select_action(state, memory)\n",
    "        env_step = env.step(action)\n",
    "        state, reward, done = normalizer(env_step)\n",
    "\n",
    "        # Calculate reward: the difference between this and last timesteps' rewards \n",
    "        delta = 0 if last_reward is None else reward - last_reward\n",
    "        last_reward = reward\n",
    "        # Add encouragement for reaching target\n",
    "        bonus = 0\n",
    "        if reward == 1.0:   # check if reached the target\n",
    "            bonus = 1000-t  # add a bonus\n",
    "            done = True     # stop episode early\n",
    "        \n",
    "        memory.rewards.append(1000*delta + bonus)\n",
    "        memory.is_terminals.append(done)\n",
    "\n",
    "        # Update every 4096 timesteps\n",
    "        if time_step % update_timestep == 0:\n",
    "            ppo.update(memory)\n",
    "            memory.clear_memory()\n",
    "\n",
    "        score += reward\n",
    "        if done:\n",
    "            break\n",
    "\n",
    "    # Calculate travelled ratio\n",
    "    dist1 = np.linalg.norm(env_step.observation[\"to_target\"])\n",
    "    avg_dist += (dist0 - dist1)/dist0\n",
    "    \n",
    "    scores.append(score + (999 - t))    #add the score we would get if we didn't stop episode early\n",
    "    avg_length += t\n",
    "    \n",
    "    # logging\n",
    "    if i_episode % log_interval == 0:\n",
    "        avg_dist /= log_interval\n",
    "        avg_length = int(avg_length/log_interval)\n",
    "        \n",
    "        print(\"Episode {} \\t Dist: {:.4f} \\t Env score: {:.2f} \\t Len: {}\".format(i_episode, avg_dist, np.mean(scores[-20:]), avg_length))\n",
    "        avg_dist = 0\n",
    "        avg_length = 0\n",
    "    \n",
    "    if i_episode % 500 == 0:\n",
    "        torch.save(ppo.policy.state_dict(), \"weights/PPO_swimmer_delta_{}.pth\".format(i_episode))\n",
    "        \n",
    "torch.save(ppo.policy.state_dict(), \"weights/PPO_swimmer_delta.pth\")"
   ]
  },
  {
   "cell_type": "markdown",
   "metadata": {},
   "source": [
    "## Plot scores of last ~2500 episodes (smoothed)"
   ]
  },
  {
   "cell_type": "code",
   "execution_count": 25,
   "metadata": {},
   "outputs": [
    {
     "data": {
      "text/plain": [
       "[<matplotlib.lines.Line2D at 0x7ffa3e9a60b8>]"
      ]
     },
     "execution_count": 25,
     "metadata": {},
     "output_type": "execute_result"
    },
    {
     "data": {
      "image/png": "[encoded data removed]",
      "text/plain": [
       "<Figure size 432x288 with 1 Axes>"
      ]
     },
     "metadata": {
      "needs_background": "light"
     },
     "output_type": "display_data"
    }
   ],
   "source": [
    "from scipy.ndimage.filters import uniform_filter1d\n",
    "def smooth(x, N=10):\n",
    "    return uniform_filter1d(x, size=N)\n",
    "\n",
    "plt.plot(smooth(scores,200))"
   ]
  },
  {
   "cell_type": "markdown",
   "metadata": {},
   "source": [
    "# Testing\n",
    "## Simulate 100 episodes"
   ]
  },
  {
   "cell_type": "code",
   "execution_count": 27,
   "metadata": {},
   "outputs": [
    {
     "name": "stderr",
     "output_type": "stream",
     "text": [
      "100%|██████████| 100/100 [01:14<00:00,  1.36it/s]\n"
     ]
    }
   ],
   "source": [
    "test_episodes = 100\n",
    "test_dist = []\n",
    "test_scores = []\n",
    "\n",
    "for i in tqdm.tqdm(range(test_episodes)):\n",
    "    env_step = env.reset()\n",
    "    state, _, _ = normalizer(env_step)\n",
    "    score = 0\n",
    "    \n",
    "    dist0 = np.linalg.norm(env_step.observation[\"to_target\"])\n",
    "\n",
    "    for t in range(max_t):\n",
    "        action = ppo.select_action(state, None)\n",
    "        env_step = env.step(action)\n",
    "        state, reward, done = normalizer(env_step)\n",
    "        \n",
    "        if reward == 1.0:  # reached the target\n",
    "            done = True\n",
    "        \n",
    "        score += reward       \n",
    "        if done:\n",
    "            break\n",
    "    test_scores.append(score + (999 - t))\n",
    "    \n",
    "    # How much distance travelled during episode\n",
    "    dist1 = np.linalg.norm(env_step.observation[\"to_target\"])\n",
    "    dist_traveled = dist0 - dist1\n",
    "    test_dist.append(dist_traveled/dist0)"
   ]
  },
  {
   "cell_type": "markdown",
   "metadata": {},
   "source": [
    "## Visualization and analysis\n",
    "### Scores"
   ]
  },
  {
   "cell_type": "code",
   "execution_count": 31,
   "metadata": {},
   "outputs": [
    {
     "data": {
      "text/plain": [
       "(array([51.,  8.,  4.,  7., 30.]),\n",
       " array([   6.25277043,  205.00221635,  403.75166226,  602.50110817,\n",
       "         801.25055409, 1000.        ]),\n",
       " <a list of 5 Patch objects>)"
      ]
     },
     "execution_count": 31,
     "metadata": {},
     "output_type": "execute_result"
    },
    {
     "data": {
      "image/png": "[encoded data removed]",
      "text/plain": [
       "<Figure size 432x288 with 1 Axes>"
      ]
     },
     "metadata": {
      "needs_background": "light"
     },
     "output_type": "display_data"
    }
   ],
   "source": [
    "plt.hist(test_scores, bins=5)"
   ]
  },
  {
   "cell_type": "code",
   "execution_count": 46,
   "metadata": {},
   "outputs": [
    {
     "name": "stdout",
     "output_type": "stream",
     "text": [
      "Worst cases: 51 episodes ended with score <200 and mean score = 55.74\n",
      "Best cases: 30 episodes ended with score >900 and mean score = 948.41\n"
     ]
    }
   ],
   "source": [
    "test_scores = np.array(test_scores)\n",
    "c1 = len(test_scores[test_scores<200])\n",
    "m1 = np.mean(test_scores[test_scores<200])\n",
    "c2 = len(test_scores[test_scores>800])\n",
    "m2 = np.mean(test_scores[test_scores>800])\n",
    "print(\"Worst cases: {} episodes ended with score <200 and mean score = {:.2f}\".format(c1,m1))\n",
    "print(\"Best cases: {} episodes ended with score >900 and mean score = {:.2f}\".format(c2,m2))"
   ]
  },
  {
   "cell_type": "markdown",
   "metadata": {},
   "source": [
    "However, it is difficult to judge agent depending only on test scores, due to how rewards are calculated in this environmment. It is quite possible to spawn near the target and get a high score even though you didn't move at all.\n",
    "Also, because reward does not scales linearly with the distance in my observation (it increases/decreases more if you are nead the target and less if you are far from it), if you spawn far away from the target, you will get lower score.\n",
    "\n",
    "### Travelled distance ratio\n",
    "\n",
    "To address this, I also tracked ratio of distence travelled, calculated like this:\n",
    "\n",
    "`ratio = (distance_at_episode_start - distance_at_episode_end) / distance_at_episode_start`"
   ]
  },
  {
   "cell_type": "code",
   "execution_count": 30,
   "metadata": {},
   "outputs": [
    {
     "data": {
      "image/png": "[encoded data removed]",
      "text/plain": [
       "<Figure size 432x288 with 1 Axes>"
      ]
     },
     "metadata": {
      "needs_background": "light"
     },
     "output_type": "display_data"
    }
   ],
   "source": [
    "plt.hist(test_dist, bins=5);"
   ]
  },
  {
   "cell_type": "code",
   "execution_count": 55,
   "metadata": {},
   "outputs": [
    {
     "name": "stdout",
     "output_type": "stream",
     "text": [
      "72 agents travelled more than half way, 17 agents reached the target\n"
     ]
    }
   ],
   "source": [
    "test_dist = np.array(test_dist)\n",
    "c1 = len(test_dist[test_dist>0.5])\n",
    "c2 = len(test_dist[test_dist>0.9])\n",
    "print(\"{} agents travelled more than half way, {} agents reached the target\".format(c1,c2))"
   ]
  },
  {
   "cell_type": "code",
   "execution_count": null,
   "metadata": {},
   "outputs": [],
   "source": []
  },
  {
   "cell_type": "markdown",
   "metadata": {},
   "source": [
    "# Visualize episode"
   ]
  },
  {
   "cell_type": "code",
   "execution_count": null,
   "metadata": {},
   "outputs": [],
   "source": [
    "def to_state(time_step):\n",
    "    state = np.concatenate([x for x in time_step.observation.values()])\n",
    "    return state\n",
    "\n",
    "from dm_control import viewer\n",
    "def policy(time_step):\n",
    "    state = to_state(time_step)\n",
    "    action = ppo.select_action(state, None)\n",
    "    return action\n",
    "viewer.launch(env, policy=policy)"
   ]
  },
  {
   "cell_type": "markdown",
   "metadata": {},
   "source": [
    "### Video of some episodes:\n",
    "https://drive.google.com/file/d/1sVEI1knVgu7chjx1tIvz54084oLbL0nh/view\n",
    "\n",
    "### Some observations\n",
    "* Snake learned a good moving pattern for moving in straight line\n",
    "* However, this movement is slow and often snake doesn't have enought time to reach target\n",
    "* Snake struggles at hard turns and sometimes gets locked"
   ]
  }
 ],
 "metadata": {
  "kernelspec": {
   "display_name": "Python 3",
   "language": "python",
   "name": "python3"
  },
  "language_info": {
   "codemirror_mode": {
    "name": "ipython",
    "version": 3
   },
   "file_extension": ".py",
   "mimetype": "text/x-python",
   "name": "python",
   "nbconvert_exporter": "python",
   "pygments_lexer": "ipython3",
   "version": "3.5.6"
  }
 },
 "nbformat": 4,
 "nbformat_minor": 2
}
